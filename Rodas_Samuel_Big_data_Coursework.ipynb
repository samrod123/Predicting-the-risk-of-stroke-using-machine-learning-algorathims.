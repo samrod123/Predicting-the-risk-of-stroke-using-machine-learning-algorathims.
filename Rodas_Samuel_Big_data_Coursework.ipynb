{
  "nbformat": 4,
  "nbformat_minor": 0,
  "metadata": {
    "colab": {
      "provenance": []
    },
    "kernelspec": {
      "name": "python3",
      "display_name": "Python 3"
    },
    "language_info": {
      "name": "python"
    }
  },
  "cells": [
    {
      "cell_type": "code",
      "execution_count": null,
      "metadata": {
        "colab": {
          "base_uri": "https://localhost:8080/"
        },
        "id": "5Q-N8PaoWy4I",
        "outputId": "d37f9d43-2975-4d54-de8c-86c15e47e94b"
      },
      "outputs": [
        {
          "output_type": "stream",
          "name": "stdout",
          "text": [
            "Requirement already satisfied: findspark in /usr/local/lib/python3.10/dist-packages (2.0.1)\n"
          ]
        }
      ],
      "source": [
        "!pip install findspark\n"
      ]
    },
    {
      "cell_type": "code",
      "source": [
        "!pip install pyspark\n"
      ],
      "metadata": {
        "colab": {
          "base_uri": "https://localhost:8080/"
        },
        "id": "v-AX3bbUW30B",
        "outputId": "ae31e00f-38cb-41fd-9d3d-2c2785d5cc75"
      },
      "execution_count": null,
      "outputs": [
        {
          "output_type": "stream",
          "name": "stdout",
          "text": [
            "Requirement already satisfied: pyspark in /usr/local/lib/python3.10/dist-packages (3.5.1)\n",
            "Requirement already satisfied: py4j==0.10.9.7 in /usr/local/lib/python3.10/dist-packages (from pyspark) (0.10.9.7)\n"
          ]
        }
      ]
    },
    {
      "cell_type": "code",
      "source": [
        "import warnings\n",
        "warnings.filterwarnings(\"ignore\")\n",
        "\n",
        "import findspark\n",
        "findspark.init()\n",
        "\n",
        "import pyspark\n",
        "from pyspark.sql import SparkSession\n",
        "from pyspark.sql.types import *\n",
        "from pyspark.sql.functions import *\n",
        "from pyspark.ml.feature import StringIndexer, OneHotEncoder, VectorAssembler, StandardScaler\n",
        "from pyspark.ml import Pipeline\n",
        "from pyspark.ml.classification import RandomForestClassifier, LinearSVC, NaiveBayes, LogisticRegression\n",
        "from pyspark.ml.evaluation import BinaryClassificationEvaluator\n",
        "from pyspark.ml.tuning import ParamGridBuilder, CrossValidator\n",
        "\n",
        "\n",
        "spark = SparkSession.builder.appName('Stroke_Prediction').getOrCreate()\n",
        "spark"
      ],
      "metadata": {
        "colab": {
          "base_uri": "https://localhost:8080/",
          "height": 224
        },
        "id": "4wyzy6BVkWai",
        "outputId": "9e13e7b5-0271-410e-8138-109ab97e5ebe"
      },
      "execution_count": null,
      "outputs": [
        {
          "output_type": "execute_result",
          "data": {
            "text/plain": [
              "<pyspark.sql.session.SparkSession at 0x7a1b7bd02830>"
            ],
            "text/html": [
              "\n",
              "            <div>\n",
              "                <p><b>SparkSession - in-memory</b></p>\n",
              "                \n",
              "        <div>\n",
              "            <p><b>SparkContext</b></p>\n",
              "\n",
              "            <p><a href=\"http://c509e30ea145:4040\">Spark UI</a></p>\n",
              "\n",
              "            <dl>\n",
              "              <dt>Version</dt>\n",
              "                <dd><code>v3.5.1</code></dd>\n",
              "              <dt>Master</dt>\n",
              "                <dd><code>local[*]</code></dd>\n",
              "              <dt>AppName</dt>\n",
              "                <dd><code>Stroke_Prediction</code></dd>\n",
              "            </dl>\n",
              "        </div>\n",
              "        \n",
              "            </div>\n",
              "        "
            ]
          },
          "metadata": {},
          "execution_count": 510
        }
      ]
    },
    {
      "cell_type": "code",
      "source": [
        "from pyspark.sql import functions as F\n",
        "import numpy as np\n",
        "import matplotlib.pyplot as plt\n",
        "import seaborn as sns\n",
        "import pandas as pd"
      ],
      "metadata": {
        "id": "CtQt2dd_85r_"
      },
      "execution_count": null,
      "outputs": []
    },
    {
      "cell_type": "code",
      "source": [
        "df_stroke=spark.read.csv(\"/content/healthcare-dataset-stroke-data.csv\",header=True, inferSchema=True)\n",
        "df_stroke.show()"
      ],
      "metadata": {
        "colab": {
          "base_uri": "https://localhost:8080/"
        },
        "id": "8Z24oaUgEzZa",
        "outputId": "eddcc0ed-ac2e-4844-a898-e501b04cd67c"
      },
      "execution_count": null,
      "outputs": [
        {
          "output_type": "stream",
          "name": "stdout",
          "text": [
            "+-----+------+----+------------+-------------+------------+-------------+--------------+-----------------+----+---------------+------+\n",
            "|   id|gender| age|hypertension|heart_disease|ever_married|    work_type|Residence_type|avg_glucose_level| bmi| smoking_status|stroke|\n",
            "+-----+------+----+------------+-------------+------------+-------------+--------------+-----------------+----+---------------+------+\n",
            "| 9046|  Male|67.0|           0|            1|         Yes|      Private|         Urban|           228.69|36.6|formerly smoked|     1|\n",
            "|51676|Female|61.0|           0|            0|         Yes|Self-employed|         Rural|           202.21| N/A|   never smoked|     1|\n",
            "|31112|  Male|80.0|           0|            1|         Yes|      Private|         Rural|           105.92|32.5|   never smoked|     1|\n",
            "|60182|Female|49.0|           0|            0|         Yes|      Private|         Urban|           171.23|34.4|         smokes|     1|\n",
            "| 1665|Female|79.0|           1|            0|         Yes|Self-employed|         Rural|           174.12|  24|   never smoked|     1|\n",
            "|56669|  Male|81.0|           0|            0|         Yes|      Private|         Urban|           186.21|  29|formerly smoked|     1|\n",
            "|53882|  Male|74.0|           1|            1|         Yes|      Private|         Rural|            70.09|27.4|   never smoked|     1|\n",
            "|10434|Female|69.0|           0|            0|          No|      Private|         Urban|            94.39|22.8|   never smoked|     1|\n",
            "|27419|Female|59.0|           0|            0|         Yes|      Private|         Rural|            76.15| N/A|        Unknown|     1|\n",
            "|60491|Female|78.0|           0|            0|         Yes|      Private|         Urban|            58.57|24.2|        Unknown|     1|\n",
            "|12109|Female|81.0|           1|            0|         Yes|      Private|         Rural|            80.43|29.7|   never smoked|     1|\n",
            "|12095|Female|61.0|           0|            1|         Yes|     Govt_job|         Rural|           120.46|36.8|         smokes|     1|\n",
            "|12175|Female|54.0|           0|            0|         Yes|      Private|         Urban|           104.51|27.3|         smokes|     1|\n",
            "| 8213|  Male|78.0|           0|            1|         Yes|      Private|         Urban|           219.84| N/A|        Unknown|     1|\n",
            "| 5317|Female|79.0|           0|            1|         Yes|      Private|         Urban|           214.09|28.2|   never smoked|     1|\n",
            "|58202|Female|50.0|           1|            0|         Yes|Self-employed|         Rural|           167.41|30.9|   never smoked|     1|\n",
            "|56112|  Male|64.0|           0|            1|         Yes|      Private|         Urban|           191.61|37.5|         smokes|     1|\n",
            "|34120|  Male|75.0|           1|            0|         Yes|      Private|         Urban|           221.29|25.8|         smokes|     1|\n",
            "|27458|Female|60.0|           0|            0|          No|      Private|         Urban|            89.22|37.8|   never smoked|     1|\n",
            "|25226|  Male|57.0|           0|            1|          No|     Govt_job|         Urban|           217.08| N/A|        Unknown|     1|\n",
            "+-----+------+----+------------+-------------+------------+-------------+--------------+-----------------+----+---------------+------+\n",
            "only showing top 20 rows\n",
            "\n"
          ]
        }
      ]
    },
    {
      "cell_type": "code",
      "source": [
        "df_stroke.head()"
      ],
      "metadata": {
        "colab": {
          "base_uri": "https://localhost:8080/"
        },
        "id": "JyZdVZagy3Uv",
        "outputId": "24c1f593-facb-483b-c803-041b5ad323fe"
      },
      "execution_count": null,
      "outputs": [
        {
          "output_type": "execute_result",
          "data": {
            "text/plain": [
              "Row(id=9046, gender='Male', age=67.0, hypertension=0, heart_disease=1, ever_married='Yes', work_type='Private', Residence_type='Urban', avg_glucose_level=228.69, bmi='36.6', smoking_status='formerly smoked', stroke=1)"
            ]
          },
          "metadata": {},
          "execution_count": 513
        }
      ]
    },
    {
      "cell_type": "code",
      "source": [
        "df_stroke.show(10)"
      ],
      "metadata": {
        "colab": {
          "base_uri": "https://localhost:8080/"
        },
        "id": "-NdEs0R6zFhC",
        "outputId": "62872e71-daee-4e5d-904f-d0977a110776"
      },
      "execution_count": null,
      "outputs": [
        {
          "output_type": "stream",
          "name": "stdout",
          "text": [
            "+-----+------+----+------------+-------------+------------+-------------+--------------+-----------------+----+---------------+------+\n",
            "|   id|gender| age|hypertension|heart_disease|ever_married|    work_type|Residence_type|avg_glucose_level| bmi| smoking_status|stroke|\n",
            "+-----+------+----+------------+-------------+------------+-------------+--------------+-----------------+----+---------------+------+\n",
            "| 9046|  Male|67.0|           0|            1|         Yes|      Private|         Urban|           228.69|36.6|formerly smoked|     1|\n",
            "|51676|Female|61.0|           0|            0|         Yes|Self-employed|         Rural|           202.21| N/A|   never smoked|     1|\n",
            "|31112|  Male|80.0|           0|            1|         Yes|      Private|         Rural|           105.92|32.5|   never smoked|     1|\n",
            "|60182|Female|49.0|           0|            0|         Yes|      Private|         Urban|           171.23|34.4|         smokes|     1|\n",
            "| 1665|Female|79.0|           1|            0|         Yes|Self-employed|         Rural|           174.12|  24|   never smoked|     1|\n",
            "|56669|  Male|81.0|           0|            0|         Yes|      Private|         Urban|           186.21|  29|formerly smoked|     1|\n",
            "|53882|  Male|74.0|           1|            1|         Yes|      Private|         Rural|            70.09|27.4|   never smoked|     1|\n",
            "|10434|Female|69.0|           0|            0|          No|      Private|         Urban|            94.39|22.8|   never smoked|     1|\n",
            "|27419|Female|59.0|           0|            0|         Yes|      Private|         Rural|            76.15| N/A|        Unknown|     1|\n",
            "|60491|Female|78.0|           0|            0|         Yes|      Private|         Urban|            58.57|24.2|        Unknown|     1|\n",
            "+-----+------+----+------------+-------------+------------+-------------+--------------+-----------------+----+---------------+------+\n",
            "only showing top 10 rows\n",
            "\n"
          ]
        }
      ]
    },
    {
      "cell_type": "code",
      "source": [
        "df_stroke.count()\n",
        "print(\"The number of rows:\", df_stroke.count())\n",
        "\n",
        "len(df_stroke.columns)\n",
        "print(\"The number of columns:\", len(df_stroke.columns))\n"
      ],
      "metadata": {
        "colab": {
          "base_uri": "https://localhost:8080/"
        },
        "id": "zmnJPnOBzKEm",
        "outputId": "c0439961-af47-4a2d-daf8-d39fe33a3786"
      },
      "execution_count": null,
      "outputs": [
        {
          "output_type": "stream",
          "name": "stdout",
          "text": [
            "The number of rows: 5110\n",
            "The number of columns: 12\n"
          ]
        }
      ]
    },
    {
      "cell_type": "code",
      "source": [
        "df_stroke.printSchema()"
      ],
      "metadata": {
        "colab": {
          "base_uri": "https://localhost:8080/"
        },
        "id": "7DHIelGZ0oDw",
        "outputId": "f51fcc7f-e5c7-4f91-9137-128c7857a06c"
      },
      "execution_count": null,
      "outputs": [
        {
          "output_type": "stream",
          "name": "stdout",
          "text": [
            "root\n",
            " |-- id: integer (nullable = true)\n",
            " |-- gender: string (nullable = true)\n",
            " |-- age: double (nullable = true)\n",
            " |-- hypertension: integer (nullable = true)\n",
            " |-- heart_disease: integer (nullable = true)\n",
            " |-- ever_married: string (nullable = true)\n",
            " |-- work_type: string (nullable = true)\n",
            " |-- Residence_type: string (nullable = true)\n",
            " |-- avg_glucose_level: double (nullable = true)\n",
            " |-- bmi: string (nullable = true)\n",
            " |-- smoking_status: string (nullable = true)\n",
            " |-- stroke: integer (nullable = true)\n",
            "\n"
          ]
        }
      ]
    },
    {
      "cell_type": "code",
      "source": [
        "df_stroke.groupBy(df_stroke['stroke']).count().show()"
      ],
      "metadata": {
        "colab": {
          "base_uri": "https://localhost:8080/"
        },
        "id": "VrwigPDn0xD3",
        "outputId": "90680794-6292-4884-fc1e-20dae6ef1794"
      },
      "execution_count": null,
      "outputs": [
        {
          "output_type": "stream",
          "name": "stdout",
          "text": [
            "+------+-----+\n",
            "|stroke|count|\n",
            "+------+-----+\n",
            "|     1|  249|\n",
            "|     0| 4861|\n",
            "+------+-----+\n",
            "\n"
          ]
        }
      ]
    },
    {
      "cell_type": "markdown",
      "source": [
        "Data Preprocessing stage"
      ],
      "metadata": {
        "id": "WZK8eGza1IXy"
      }
    },
    {
      "cell_type": "markdown",
      "source": [
        "Filling in the missing values in the \"BMI\" column using mean bmi value"
      ],
      "metadata": {
        "id": "2Hv83BnnIdW9"
      }
    },
    {
      "cell_type": "code",
      "source": [
        "# Cast 'bmi' column to float type\n",
        "df_stroke = df_stroke.withColumn(\"bmi\", df_stroke[\"bmi\"].cast(FloatType()))\n",
        "\n",
        "# Filter out rows with non-numeric values in the 'bmi' column\n",
        "df_stroke_filtered = df_stroke.filter(df_stroke[\"bmi\"].isNotNull())\n",
        "\n",
        "# Print unique values in the 'bmi' column\n",
        "unique_bmi_values = df_stroke_filtered.select(\"bmi\").distinct().collect()\n",
        "print(\"Unique values in the 'bmi' column:\")\n",
        "for val in unique_bmi_values:\n",
        "    print(val)"
      ],
      "metadata": {
        "colab": {
          "base_uri": "https://localhost:8080/"
        },
        "id": "k4CV-4YQ3LPp",
        "outputId": "1c347f32-aad8-4b22-dd12-1629550c1e39"
      },
      "execution_count": null,
      "outputs": [
        {
          "output_type": "stream",
          "name": "stdout",
          "text": [
            "Unique values in the 'bmi' column:\n",
            "Row(bmi=22.200000762939453)\n",
            "Row(bmi=18.0)\n",
            "Row(bmi=18.5)\n",
            "Row(bmi=26.899999618530273)\n",
            "Row(bmi=50.900001525878906)\n",
            "Row(bmi=13.199999809265137)\n",
            "Row(bmi=15.300000190734863)\n",
            "Row(bmi=61.20000076293945)\n",
            "Row(bmi=50.599998474121094)\n",
            "Row(bmi=34.099998474121094)\n",
            "Row(bmi=71.9000015258789)\n",
            "Row(bmi=42.900001525878906)\n",
            "Row(bmi=52.29999923706055)\n",
            "Row(bmi=15.100000381469727)\n",
            "Row(bmi=11.300000190734863)\n",
            "Row(bmi=20.100000381469727)\n",
            "Row(bmi=16.399999618530273)\n",
            "Row(bmi=57.20000076293945)\n",
            "Row(bmi=24.899999618530273)\n",
            "Row(bmi=39.900001525878906)\n",
            "Row(bmi=34.400001525878906)\n",
            "Row(bmi=42.5)\n",
            "Row(bmi=13.699999809265137)\n",
            "Row(bmi=48.900001525878906)\n",
            "Row(bmi=28.5)\n",
            "Row(bmi=36.70000076293945)\n",
            "Row(bmi=34.29999923706055)\n",
            "Row(bmi=39.0)\n",
            "Row(bmi=30.0)\n",
            "Row(bmi=31.899999618530273)\n",
            "Row(bmi=17.0)\n",
            "Row(bmi=39.20000076293945)\n",
            "Row(bmi=27.799999237060547)\n",
            "Row(bmi=29.100000381469727)\n",
            "Row(bmi=31.200000762939453)\n",
            "Row(bmi=45.20000076293945)\n",
            "Row(bmi=15.199999809265137)\n",
            "Row(bmi=29.899999618530273)\n",
            "Row(bmi=45.29999923706055)\n",
            "Row(bmi=32.5)\n",
            "Row(bmi=32.29999923706055)\n",
            "Row(bmi=23.299999237060547)\n",
            "Row(bmi=17.100000381469727)\n",
            "Row(bmi=38.70000076293945)\n",
            "Row(bmi=26.100000381469727)\n",
            "Row(bmi=39.599998474121094)\n",
            "Row(bmi=55.70000076293945)\n",
            "Row(bmi=14.199999809265137)\n",
            "Row(bmi=50.400001525878906)\n",
            "Row(bmi=26.600000381469727)\n",
            "Row(bmi=26.0)\n",
            "Row(bmi=31.399999618530273)\n",
            "Row(bmi=29.600000381469727)\n",
            "Row(bmi=46.599998474121094)\n",
            "Row(bmi=41.0)\n",
            "Row(bmi=44.099998474121094)\n",
            "Row(bmi=48.20000076293945)\n",
            "Row(bmi=44.599998474121094)\n",
            "Row(bmi=63.29999923706055)\n",
            "Row(bmi=64.80000305175781)\n",
            "Row(bmi=18.100000381469727)\n",
            "Row(bmi=15.800000190734863)\n",
            "Row(bmi=21.700000762939453)\n",
            "Row(bmi=25.200000762939453)\n",
            "Row(bmi=37.400001525878906)\n",
            "Row(bmi=29.0)\n",
            "Row(bmi=39.5)\n",
            "Row(bmi=22.100000381469727)\n",
            "Row(bmi=28.299999237060547)\n",
            "Row(bmi=27.5)\n",
            "Row(bmi=17.299999237060547)\n",
            "Row(bmi=48.099998474121094)\n",
            "Row(bmi=32.20000076293945)\n",
            "Row(bmi=36.20000076293945)\n",
            "Row(bmi=31.299999237060547)\n",
            "Row(bmi=19.799999237060547)\n",
            "Row(bmi=49.900001525878906)\n",
            "Row(bmi=34.5)\n",
            "Row(bmi=47.29999923706055)\n",
            "Row(bmi=23.0)\n",
            "Row(bmi=21.299999237060547)\n",
            "Row(bmi=34.79999923706055)\n",
            "Row(bmi=50.5)\n",
            "Row(bmi=18.299999237060547)\n",
            "Row(bmi=14.300000190734863)\n",
            "Row(bmi=49.400001525878906)\n",
            "Row(bmi=22.899999618530273)\n",
            "Row(bmi=36.400001525878906)\n",
            "Row(bmi=22.700000762939453)\n",
            "Row(bmi=32.400001525878906)\n",
            "Row(bmi=48.29999923706055)\n",
            "Row(bmi=29.700000762939453)\n",
            "Row(bmi=30.899999618530273)\n",
            "Row(bmi=27.899999618530273)\n",
            "Row(bmi=21.100000381469727)\n",
            "Row(bmi=21.200000762939453)\n",
            "Row(bmi=19.200000762939453)\n",
            "Row(bmi=38.79999923706055)\n",
            "Row(bmi=46.400001525878906)\n",
            "Row(bmi=97.5999984741211)\n",
            "Row(bmi=14.5)\n",
            "Row(bmi=47.79999923706055)\n",
            "Row(bmi=32.599998474121094)\n",
            "Row(bmi=39.400001525878906)\n",
            "Row(bmi=23.200000762939453)\n",
            "Row(bmi=14.800000190734863)\n",
            "Row(bmi=16.5)\n",
            "Row(bmi=20.700000762939453)\n",
            "Row(bmi=17.5)\n",
            "Row(bmi=37.099998474121094)\n",
            "Row(bmi=35.400001525878906)\n",
            "Row(bmi=35.099998474121094)\n",
            "Row(bmi=41.29999923706055)\n",
            "Row(bmi=56.0)\n",
            "Row(bmi=14.899999618530273)\n",
            "Row(bmi=14.100000381469727)\n",
            "Row(bmi=29.399999618530273)\n",
            "Row(bmi=44.29999923706055)\n",
            "Row(bmi=14.0)\n",
            "Row(bmi=29.200000762939453)\n",
            "Row(bmi=48.5)\n",
            "Row(bmi=54.0)\n",
            "Row(bmi=24.200000762939453)\n",
            "Row(bmi=45.099998474121094)\n",
            "Row(bmi=21.0)\n",
            "Row(bmi=44.20000076293945)\n",
            "Row(bmi=26.700000762939453)\n",
            "Row(bmi=56.099998474121094)\n",
            "Row(bmi=54.099998474121094)\n",
            "Row(bmi=55.0)\n",
            "Row(bmi=28.799999237060547)\n",
            "Row(bmi=29.299999237060547)\n",
            "Row(bmi=35.29999923706055)\n",
            "Row(bmi=13.800000190734863)\n",
            "Row(bmi=33.20000076293945)\n",
            "Row(bmi=31.100000381469727)\n",
            "Row(bmi=24.799999237060547)\n",
            "Row(bmi=38.0)\n",
            "Row(bmi=28.200000762939453)\n",
            "Row(bmi=31.5)\n",
            "Row(bmi=39.79999923706055)\n",
            "Row(bmi=42.29999923706055)\n",
            "Row(bmi=51.0)\n",
            "Row(bmi=38.900001525878906)\n",
            "Row(bmi=18.700000762939453)\n",
            "Row(bmi=30.100000381469727)\n",
            "Row(bmi=48.0)\n",
            "Row(bmi=60.900001525878906)\n",
            "Row(bmi=16.799999237060547)\n",
            "Row(bmi=54.20000076293945)\n",
            "Row(bmi=52.5)\n",
            "Row(bmi=41.900001525878906)\n",
            "Row(bmi=51.900001525878906)\n",
            "Row(bmi=38.5)\n",
            "Row(bmi=51.79999923706055)\n",
            "Row(bmi=48.79999923706055)\n",
            "Row(bmi=20.200000762939453)\n",
            "Row(bmi=33.79999923706055)\n",
            "Row(bmi=33.400001525878906)\n",
            "Row(bmi=43.0)\n",
            "Row(bmi=37.79999923706055)\n",
            "Row(bmi=27.0)\n",
            "Row(bmi=41.599998474121094)\n",
            "Row(bmi=44.400001525878906)\n",
            "Row(bmi=35.900001525878906)\n",
            "Row(bmi=23.799999237060547)\n",
            "Row(bmi=50.79999923706055)\n",
            "Row(bmi=31.700000762939453)\n",
            "Row(bmi=40.0)\n",
            "Row(bmi=12.0)\n",
            "Row(bmi=33.599998474121094)\n",
            "Row(bmi=22.5)\n",
            "Row(bmi=46.20000076293945)\n",
            "Row(bmi=50.099998474121094)\n",
            "Row(bmi=33.900001525878906)\n",
            "Row(bmi=41.400001525878906)\n",
            "Row(bmi=24.600000381469727)\n",
            "Row(bmi=36.900001525878906)\n",
            "Row(bmi=35.599998474121094)\n",
            "Row(bmi=57.5)\n",
            "Row(bmi=30.5)\n",
            "Row(bmi=25.700000762939453)\n",
            "Row(bmi=48.70000076293945)\n",
            "Row(bmi=26.200000762939453)\n",
            "Row(bmi=60.20000076293945)\n",
            "Row(bmi=41.099998474121094)\n",
            "Row(bmi=19.700000762939453)\n",
            "Row(bmi=38.400001525878906)\n",
            "Row(bmi=36.29999923706055)\n",
            "Row(bmi=15.399999618530273)\n",
            "Row(bmi=20.0)\n",
            "Row(bmi=15.899999618530273)\n",
            "Row(bmi=30.299999237060547)\n",
            "Row(bmi=54.70000076293945)\n",
            "Row(bmi=37.900001525878906)\n",
            "Row(bmi=40.29999923706055)\n",
            "Row(bmi=26.799999237060547)\n",
            "Row(bmi=23.399999618530273)\n",
            "Row(bmi=36.099998474121094)\n",
            "Row(bmi=24.100000381469727)\n",
            "Row(bmi=22.299999237060547)\n",
            "Row(bmi=39.70000076293945)\n",
            "Row(bmi=44.900001525878906)\n",
            "Row(bmi=51.70000076293945)\n",
            "Row(bmi=22.799999237060547)\n",
            "Row(bmi=54.599998474121094)\n",
            "Row(bmi=12.300000190734863)\n",
            "Row(bmi=32.79999923706055)\n",
            "Row(bmi=24.399999618530273)\n",
            "Row(bmi=24.299999237060547)\n",
            "Row(bmi=42.099998474121094)\n",
            "Row(bmi=43.20000076293945)\n",
            "Row(bmi=35.0)\n",
            "Row(bmi=47.5)\n",
            "Row(bmi=43.400001525878906)\n",
            "Row(bmi=53.900001525878906)\n",
            "Row(bmi=41.20000076293945)\n",
            "Row(bmi=34.0)\n",
            "Row(bmi=22.600000381469727)\n",
            "Row(bmi=43.900001525878906)\n",
            "Row(bmi=54.29999923706055)\n",
            "Row(bmi=43.79999923706055)\n",
            "Row(bmi=13.300000190734863)\n",
            "Row(bmi=35.20000076293945)\n",
            "Row(bmi=28.700000762939453)\n",
            "Row(bmi=49.20000076293945)\n",
            "Row(bmi=26.5)\n",
            "Row(bmi=24.700000762939453)\n",
            "Row(bmi=55.099998474121094)\n",
            "Row(bmi=31.799999237060547)\n",
            "Row(bmi=57.29999923706055)\n",
            "Row(bmi=52.900001525878906)\n",
            "Row(bmi=25.299999237060547)\n",
            "Row(bmi=17.200000762939453)\n",
            "Row(bmi=50.29999923706055)\n",
            "Row(bmi=14.399999618530273)\n",
            "Row(bmi=29.799999237060547)\n",
            "Row(bmi=30.700000762939453)\n",
            "Row(bmi=25.899999618530273)\n",
            "Row(bmi=17.799999237060547)\n",
            "Row(bmi=44.79999923706055)\n",
            "Row(bmi=11.5)\n",
            "Row(bmi=28.100000381469727)\n",
            "Row(bmi=40.099998474121094)\n",
            "Row(bmi=37.599998474121094)\n",
            "Row(bmi=50.20000076293945)\n",
            "Row(bmi=38.29999923706055)\n",
            "Row(bmi=37.70000076293945)\n",
            "Row(bmi=10.300000190734863)\n",
            "Row(bmi=35.5)\n",
            "Row(bmi=25.100000381469727)\n",
            "Row(bmi=21.399999618530273)\n",
            "Row(bmi=20.899999618530273)\n",
            "Row(bmi=78.0)\n",
            "Row(bmi=37.29999923706055)\n",
            "Row(bmi=15.699999809265137)\n",
            "Row(bmi=16.899999618530273)\n",
            "Row(bmi=19.100000381469727)\n",
            "Row(bmi=16.200000762939453)\n",
            "Row(bmi=47.099998474121094)\n",
            "Row(bmi=46.099998474121094)\n",
            "Row(bmi=40.70000076293945)\n",
            "Row(bmi=46.79999923706055)\n",
            "Row(bmi=24.0)\n",
            "Row(bmi=46.5)\n",
            "Row(bmi=33.70000076293945)\n",
            "Row(bmi=18.899999618530273)\n",
            "Row(bmi=49.5)\n",
            "Row(bmi=35.79999923706055)\n",
            "Row(bmi=33.099998474121094)\n",
            "Row(bmi=64.4000015258789)\n",
            "Row(bmi=27.700000762939453)\n",
            "Row(bmi=25.600000381469727)\n",
            "Row(bmi=38.099998474121094)\n",
            "Row(bmi=23.899999618530273)\n",
            "Row(bmi=44.0)\n",
            "Row(bmi=39.099998474121094)\n",
            "Row(bmi=45.70000076293945)\n",
            "Row(bmi=23.600000381469727)\n",
            "Row(bmi=16.0)\n",
            "Row(bmi=40.20000076293945)\n",
            "Row(bmi=42.0)\n",
            "Row(bmi=18.200000762939453)\n",
            "Row(bmi=41.5)\n",
            "Row(bmi=45.0)\n",
            "Row(bmi=15.5)\n",
            "Row(bmi=40.900001525878906)\n",
            "Row(bmi=23.700000762939453)\n",
            "Row(bmi=43.29999923706055)\n",
            "Row(bmi=61.599998474121094)\n",
            "Row(bmi=35.70000076293945)\n",
            "Row(bmi=53.400001525878906)\n",
            "Row(bmi=32.900001525878906)\n",
            "Row(bmi=57.70000076293945)\n",
            "Row(bmi=27.299999237060547)\n",
            "Row(bmi=19.399999618530273)\n",
            "Row(bmi=21.600000381469727)\n",
            "Row(bmi=46.0)\n",
            "Row(bmi=40.79999923706055)\n",
            "Row(bmi=47.900001525878906)\n",
            "Row(bmi=20.600000381469727)\n",
            "Row(bmi=17.899999618530273)\n",
            "Row(bmi=39.29999923706055)\n",
            "Row(bmi=19.600000381469727)\n",
            "Row(bmi=18.399999618530273)\n",
            "Row(bmi=44.5)\n",
            "Row(bmi=45.900001525878906)\n",
            "Row(bmi=26.299999237060547)\n",
            "Row(bmi=22.0)\n",
            "Row(bmi=27.600000381469727)\n",
            "Row(bmi=21.899999618530273)\n",
            "Row(bmi=32.099998474121094)\n",
            "Row(bmi=26.399999618530273)\n",
            "Row(bmi=28.399999618530273)\n",
            "Row(bmi=49.29999923706055)\n",
            "Row(bmi=12.800000190734863)\n",
            "Row(bmi=56.599998474121094)\n",
            "Row(bmi=16.100000381469727)\n",
            "Row(bmi=14.600000381469727)\n",
            "Row(bmi=44.70000076293945)\n",
            "Row(bmi=53.5)\n",
            "Row(bmi=57.900001525878906)\n",
            "Row(bmi=52.79999923706055)\n",
            "Row(bmi=13.899999618530273)\n",
            "Row(bmi=32.0)\n",
            "Row(bmi=19.0)\n",
            "Row(bmi=45.5)\n",
            "Row(bmi=16.700000762939453)\n",
            "Row(bmi=48.400001525878906)\n",
            "Row(bmi=34.900001525878906)\n",
            "Row(bmi=19.299999237060547)\n",
            "Row(bmi=30.399999618530273)\n",
            "Row(bmi=27.200000762939453)\n",
            "Row(bmi=25.0)\n",
            "Row(bmi=24.5)\n",
            "Row(bmi=20.399999618530273)\n",
            "Row(bmi=42.70000076293945)\n",
            "Row(bmi=20.5)\n",
            "Row(bmi=28.600000381469727)\n",
            "Row(bmi=36.0)\n",
            "Row(bmi=20.799999237060547)\n",
            "Row(bmi=25.799999237060547)\n",
            "Row(bmi=33.0)\n",
            "Row(bmi=33.29999923706055)\n",
            "Row(bmi=43.70000076293945)\n",
            "Row(bmi=45.400001525878906)\n",
            "Row(bmi=36.5)\n",
            "Row(bmi=20.299999237060547)\n",
            "Row(bmi=18.600000381469727)\n",
            "Row(bmi=42.599998474121094)\n",
            "Row(bmi=40.400001525878906)\n",
            "Row(bmi=29.5)\n",
            "Row(bmi=19.5)\n",
            "Row(bmi=38.20000076293945)\n",
            "Row(bmi=13.5)\n",
            "Row(bmi=15.0)\n",
            "Row(bmi=46.900001525878906)\n",
            "Row(bmi=25.399999618530273)\n",
            "Row(bmi=30.200000762939453)\n",
            "Row(bmi=92.0)\n",
            "Row(bmi=55.20000076293945)\n",
            "Row(bmi=54.79999923706055)\n",
            "Row(bmi=22.399999618530273)\n",
            "Row(bmi=53.79999923706055)\n",
            "Row(bmi=42.20000076293945)\n",
            "Row(bmi=43.599998474121094)\n",
            "Row(bmi=32.70000076293945)\n",
            "Row(bmi=58.099998474121094)\n",
            "Row(bmi=30.799999237060547)\n",
            "Row(bmi=40.5)\n",
            "Row(bmi=27.399999618530273)\n",
            "Row(bmi=41.70000076293945)\n",
            "Row(bmi=16.299999237060547)\n",
            "Row(bmi=66.80000305175781)\n",
            "Row(bmi=31.0)\n",
            "Row(bmi=47.599998474121094)\n",
            "Row(bmi=38.599998474121094)\n",
            "Row(bmi=36.79999923706055)\n",
            "Row(bmi=28.899999618530273)\n",
            "Row(bmi=46.29999923706055)\n",
            "Row(bmi=42.400001525878906)\n",
            "Row(bmi=15.600000381469727)\n",
            "Row(bmi=37.5)\n",
            "Row(bmi=41.79999923706055)\n",
            "Row(bmi=21.799999237060547)\n",
            "Row(bmi=31.600000381469727)\n",
            "Row(bmi=47.400001525878906)\n",
            "Row(bmi=28.0)\n",
            "Row(bmi=25.5)\n",
            "Row(bmi=43.099998474121094)\n",
            "Row(bmi=17.700000762939453)\n",
            "Row(bmi=36.599998474121094)\n",
            "Row(bmi=51.5)\n",
            "Row(bmi=17.399999618530273)\n",
            "Row(bmi=21.5)\n",
            "Row(bmi=49.79999923706055)\n",
            "Row(bmi=23.5)\n",
            "Row(bmi=45.79999923706055)\n",
            "Row(bmi=40.599998474121094)\n",
            "Row(bmi=37.0)\n",
            "Row(bmi=13.399999618530273)\n",
            "Row(bmi=34.70000076293945)\n",
            "Row(bmi=30.600000381469727)\n",
            "Row(bmi=23.100000381469727)\n",
            "Row(bmi=52.70000076293945)\n",
            "Row(bmi=33.5)\n",
            "Row(bmi=55.900001525878906)\n",
            "Row(bmi=34.20000076293945)\n",
            "Row(bmi=27.100000381469727)\n",
            "Row(bmi=17.600000381469727)\n",
            "Row(bmi=34.599998474121094)\n",
            "Row(bmi=16.600000381469727)\n",
            "Row(bmi=37.20000076293945)\n",
            "Row(bmi=42.79999923706055)\n",
            "Row(bmi=59.70000076293945)\n",
            "Row(bmi=18.799999237060547)\n",
            "Row(bmi=19.899999618530273)\n",
            "Row(bmi=13.0)\n"
          ]
        }
      ]
    },
    {
      "cell_type": "code",
      "source": [
        "# Calculate mean BMI value\n",
        "mean_bmi = df_stroke_filtered.select(mean(col(\"bmi\"))).collect()[0][0]\n",
        "print(\"Mean BMI value used for filling missing values:\", mean_bmi)\n",
        "\n",
        "# Fill missing values in 'bmi' column with mean value\n",
        "df_stroke = df_stroke.fillna(mean_bmi, subset=[\"bmi\"])\n",
        "df_stroke = df_stroke.withColumn(\"bmi\", col(\"bmi\").cast(\"integer\"))\n",
        "\n",
        "# Show the dataframe with filled missing values in 'bmi' column\n",
        "df_stroke.show(10)"
      ],
      "metadata": {
        "colab": {
          "base_uri": "https://localhost:8080/"
        },
        "id": "LpaRLAoh4CVm",
        "outputId": "f407ee72-32bb-4a60-a9c4-5e7fdf581b59"
      },
      "execution_count": null,
      "outputs": [
        {
          "output_type": "stream",
          "name": "stdout",
          "text": [
            "Mean BMI value used for filling missing values: 28.89323691268831\n",
            "+-----+------+----+------------+-------------+------------+-------------+--------------+-----------------+---+---------------+------+\n",
            "|   id|gender| age|hypertension|heart_disease|ever_married|    work_type|Residence_type|avg_glucose_level|bmi| smoking_status|stroke|\n",
            "+-----+------+----+------------+-------------+------------+-------------+--------------+-----------------+---+---------------+------+\n",
            "| 9046|  Male|67.0|           0|            1|         Yes|      Private|         Urban|           228.69| 36|formerly smoked|     1|\n",
            "|51676|Female|61.0|           0|            0|         Yes|Self-employed|         Rural|           202.21| 28|   never smoked|     1|\n",
            "|31112|  Male|80.0|           0|            1|         Yes|      Private|         Rural|           105.92| 32|   never smoked|     1|\n",
            "|60182|Female|49.0|           0|            0|         Yes|      Private|         Urban|           171.23| 34|         smokes|     1|\n",
            "| 1665|Female|79.0|           1|            0|         Yes|Self-employed|         Rural|           174.12| 24|   never smoked|     1|\n",
            "|56669|  Male|81.0|           0|            0|         Yes|      Private|         Urban|           186.21| 29|formerly smoked|     1|\n",
            "|53882|  Male|74.0|           1|            1|         Yes|      Private|         Rural|            70.09| 27|   never smoked|     1|\n",
            "|10434|Female|69.0|           0|            0|          No|      Private|         Urban|            94.39| 22|   never smoked|     1|\n",
            "|27419|Female|59.0|           0|            0|         Yes|      Private|         Rural|            76.15| 28|        Unknown|     1|\n",
            "|60491|Female|78.0|           0|            0|         Yes|      Private|         Urban|            58.57| 24|        Unknown|     1|\n",
            "+-----+------+----+------------+-------------+------------+-------------+--------------+-----------------+---+---------------+------+\n",
            "only showing top 10 rows\n",
            "\n"
          ]
        }
      ]
    },
    {
      "cell_type": "markdown",
      "source": [
        "Identifying missing value in columns"
      ],
      "metadata": {
        "id": "kvB6Ld1AH2vg"
      }
    },
    {
      "cell_type": "code",
      "source": [
        "missing_values_count = df_stroke.select([count(when((col(c).isNull()) | (col(c) == \"\") | (col(c) == \"N/A\") | (col(c) == \"NA\") | isnan(col(c)), c)).alias(c) for c in df_stroke.columns])\n",
        "missing_values_count.show()"
      ],
      "metadata": {
        "colab": {
          "base_uri": "https://localhost:8080/"
        },
        "id": "Qrq0o_pU-bpI",
        "outputId": "859d95ab-ed61-4a04-e2af-df08b1ddc4e8"
      },
      "execution_count": null,
      "outputs": [
        {
          "output_type": "stream",
          "name": "stdout",
          "text": [
            "+---+------+---+------------+-------------+------------+---------+--------------+-----------------+---+--------------+------+\n",
            "| id|gender|age|hypertension|heart_disease|ever_married|work_type|Residence_type|avg_glucose_level|bmi|smoking_status|stroke|\n",
            "+---+------+---+------------+-------------+------------+---------+--------------+-----------------+---+--------------+------+\n",
            "|  0|     0|  0|           0|            0|           0|        0|             0|                0|  0|             0|     0|\n",
            "+---+------+---+------------+-------------+------------+---------+--------------+-----------------+---+--------------+------+\n",
            "\n"
          ]
        }
      ]
    },
    {
      "cell_type": "code",
      "source": [
        "bmi_missing_value = df_stroke.select(count(when((isnan(\"bmi\") | col(\"bmi\").isNull() | (col(\"bmi\") == \"\") | (col(\"bmi\") == \"N/A\") | (col(\"bmi\") == \"NA\")), \"bmi\"))).collect()[0][0]\n",
        "print(\"Missing count in 'bmi' column:\", bmi_missing_value)"
      ],
      "metadata": {
        "colab": {
          "base_uri": "https://localhost:8080/"
        },
        "id": "S_KtqDtz8fdc",
        "outputId": "e9cea4bf-a72e-4362-d96e-a25517e4b59a"
      },
      "execution_count": null,
      "outputs": [
        {
          "output_type": "stream",
          "name": "stdout",
          "text": [
            "Missing count in 'bmi' column: 0\n"
          ]
        }
      ]
    },
    {
      "cell_type": "code",
      "source": [
        "# Print the mean BMI value used for filling missing values\n",
        "print(\"Mean BMI value used for filling missing values:\", mean_bmi)\n",
        "\n",
        "# Check for null values in other columns\n",
        "other_null_counts = df_stroke.select([count(when(col(c).isNull(), c)).alias(c) for c in df_stroke.columns if c != 'bmi']).collect()[0]\n",
        "print(\"Null counts in other columns:\")\n",
        "for column, null_count in zip(df_stroke.columns, other_null_counts):\n",
        "    print(f\"{column}: {null_count}\")"
      ],
      "metadata": {
        "colab": {
          "base_uri": "https://localhost:8080/"
        },
        "id": "cO5mrWh70kAC",
        "outputId": "e69a6f16-fcf1-4a56-bef7-86abeeb74c59"
      },
      "execution_count": null,
      "outputs": [
        {
          "output_type": "stream",
          "name": "stdout",
          "text": [
            "Mean BMI value used for filling missing values: 28.89323691268831\n",
            "Null counts in other columns:\n",
            "id: 0\n",
            "gender: 0\n",
            "age: 0\n",
            "hypertension: 0\n",
            "heart_disease: 0\n",
            "ever_married: 0\n",
            "work_type: 0\n",
            "Residence_type: 0\n",
            "avg_glucose_level: 0\n",
            "bmi: 0\n",
            "smoking_status: 0\n"
          ]
        }
      ]
    },
    {
      "cell_type": "markdown",
      "source": [
        "Removal of 'id' column"
      ],
      "metadata": {
        "id": "kFCoeFOoHwvY"
      }
    },
    {
      "cell_type": "code",
      "source": [
        "df_stroke= df_stroke.drop('id')"
      ],
      "metadata": {
        "id": "7bEJqVb1-RIH"
      },
      "execution_count": null,
      "outputs": []
    },
    {
      "cell_type": "code",
      "source": [
        "df_stroke.show(10)"
      ],
      "metadata": {
        "colab": {
          "base_uri": "https://localhost:8080/"
        },
        "id": "-wxpiSyt-SN0",
        "outputId": "e7a2e62f-a4ca-4f3d-ea75-57fda08c4bd5"
      },
      "execution_count": null,
      "outputs": [
        {
          "output_type": "stream",
          "name": "stdout",
          "text": [
            "+-----+------+----+------------+-------------+------------+-------------+--------------+-----------------+---+---------------+------+\n",
            "|   id|gender| age|hypertension|heart_disease|ever_married|    work_type|Residence_type|avg_glucose_level|bmi| smoking_status|stroke|\n",
            "+-----+------+----+------------+-------------+------------+-------------+--------------+-----------------+---+---------------+------+\n",
            "| 9046|  Male|67.0|           0|            1|         Yes|      Private|         Urban|           228.69| 36|formerly smoked|     1|\n",
            "|51676|Female|61.0|           0|            0|         Yes|Self-employed|         Rural|           202.21| 28|   never smoked|     1|\n",
            "|31112|  Male|80.0|           0|            1|         Yes|      Private|         Rural|           105.92| 32|   never smoked|     1|\n",
            "|60182|Female|49.0|           0|            0|         Yes|      Private|         Urban|           171.23| 34|         smokes|     1|\n",
            "| 1665|Female|79.0|           1|            0|         Yes|Self-employed|         Rural|           174.12| 24|   never smoked|     1|\n",
            "|56669|  Male|81.0|           0|            0|         Yes|      Private|         Urban|           186.21| 29|formerly smoked|     1|\n",
            "|53882|  Male|74.0|           1|            1|         Yes|      Private|         Rural|            70.09| 27|   never smoked|     1|\n",
            "|10434|Female|69.0|           0|            0|          No|      Private|         Urban|            94.39| 22|   never smoked|     1|\n",
            "|27419|Female|59.0|           0|            0|         Yes|      Private|         Rural|            76.15| 28|        Unknown|     1|\n",
            "|60491|Female|78.0|           0|            0|         Yes|      Private|         Urban|            58.57| 24|        Unknown|     1|\n",
            "+-----+------+----+------------+-------------+------------+-------------+--------------+-----------------+---+---------------+------+\n",
            "only showing top 10 rows\n",
            "\n"
          ]
        }
      ]
    },
    {
      "cell_type": "code",
      "source": [
        "df_stroke.printSchema()"
      ],
      "metadata": {
        "colab": {
          "base_uri": "https://localhost:8080/"
        },
        "id": "gJIQvxxjHemL",
        "outputId": "a7c6957e-eb02-4f18-cd78-c090161194ba"
      },
      "execution_count": null,
      "outputs": [
        {
          "output_type": "stream",
          "name": "stdout",
          "text": [
            "root\n",
            " |-- id: integer (nullable = true)\n",
            " |-- gender: string (nullable = true)\n",
            " |-- age: double (nullable = true)\n",
            " |-- hypertension: integer (nullable = true)\n",
            " |-- heart_disease: integer (nullable = true)\n",
            " |-- ever_married: string (nullable = true)\n",
            " |-- work_type: string (nullable = true)\n",
            " |-- Residence_type: string (nullable = true)\n",
            " |-- avg_glucose_level: double (nullable = true)\n",
            " |-- bmi: integer (nullable = true)\n",
            " |-- smoking_status: string (nullable = true)\n",
            " |-- stroke: integer (nullable = true)\n",
            "\n"
          ]
        }
      ]
    },
    {
      "cell_type": "markdown",
      "source": [
        "Label encoding"
      ],
      "metadata": {
        "id": "yXsXUjExLORn"
      }
    },
    {
      "cell_type": "code",
      "source": [
        "\n",
        "# StringIndexer for categorical columns\n",
        "indexers = [StringIndexer(inputCol=col, outputCol=col+\"_index\", handleInvalid=\"keep\")\n",
        "            for col in ['gender', 'ever_married', 'work_type', 'Residence_type', 'smoking_status']]\n",
        "\n",
        "# Apply StringIndexers in pipeline\n",
        "pipeline = Pipeline(stages=indexers)\n",
        "df_stroke_indexed = pipeline.fit(df_stroke).transform(df_stroke)\n",
        "\n",
        "# Apply OneHotEncoder for gender index column\n",
        "encoder = OneHotEncoder(inputCols=[\"gender_index\"], outputCols=[\"gender_encoded\"])\n",
        "model = encoder.fit(df_stroke_indexed)\n",
        "df_stroke_encoded = model.transform(df_stroke_indexed)\n",
        "\n",
        "# VectorAssembler for combining features\n",
        "input_cols = ['age', 'hypertension', 'heart_disease', 'avg_glucose_level', 'bmi', 'gender_encoded']\n",
        "assembler = VectorAssembler(inputCols=input_cols, outputCol=\"features\")\n",
        "df_stroke_assembled = assembler.transform(df_stroke_encoded)\n",
        "\n",
        "# Show the dataframe with gender one-hot encoded\n",
        "df_stroke_assembled.show(10)\n"
      ],
      "metadata": {
        "colab": {
          "base_uri": "https://localhost:8080/"
        },
        "id": "DvzH3cV57BGR",
        "outputId": "3b08b506-365b-48e8-b083-88d59a2a8bf2"
      },
      "execution_count": null,
      "outputs": [
        {
          "output_type": "stream",
          "name": "stdout",
          "text": [
            "+-----+------+----+------------+-------------+------------+-------------+--------------+-----------------+---+---------------+------+------------+------------------+---------------+--------------------+--------------------+--------------+--------------------+\n",
            "|   id|gender| age|hypertension|heart_disease|ever_married|    work_type|Residence_type|avg_glucose_level|bmi| smoking_status|stroke|gender_index|ever_married_index|work_type_index|Residence_type_index|smoking_status_index|gender_encoded|            features|\n",
            "+-----+------+----+------------+-------------+------------+-------------+--------------+-----------------+---+---------------+------+------------+------------------+---------------+--------------------+--------------------+--------------+--------------------+\n",
            "| 9046|  Male|67.0|           0|            1|         Yes|      Private|         Urban|           228.69| 36|formerly smoked|     1|         1.0|               0.0|            0.0|                 0.0|                 2.0| (3,[1],[1.0])|[67.0,0.0,1.0,228...|\n",
            "|51676|Female|61.0|           0|            0|         Yes|Self-employed|         Rural|           202.21| 28|   never smoked|     1|         0.0|               0.0|            1.0|                 1.0|                 0.0| (3,[0],[1.0])|(8,[0,3,4,5],[61....|\n",
            "|31112|  Male|80.0|           0|            1|         Yes|      Private|         Rural|           105.92| 32|   never smoked|     1|         1.0|               0.0|            0.0|                 1.0|                 0.0| (3,[1],[1.0])|[80.0,0.0,1.0,105...|\n",
            "|60182|Female|49.0|           0|            0|         Yes|      Private|         Urban|           171.23| 34|         smokes|     1|         0.0|               0.0|            0.0|                 0.0|                 3.0| (3,[0],[1.0])|(8,[0,3,4,5],[49....|\n",
            "| 1665|Female|79.0|           1|            0|         Yes|Self-employed|         Rural|           174.12| 24|   never smoked|     1|         0.0|               0.0|            1.0|                 1.0|                 0.0| (3,[0],[1.0])|[79.0,1.0,0.0,174...|\n",
            "|56669|  Male|81.0|           0|            0|         Yes|      Private|         Urban|           186.21| 29|formerly smoked|     1|         1.0|               0.0|            0.0|                 0.0|                 2.0| (3,[1],[1.0])|(8,[0,3,4,6],[81....|\n",
            "|53882|  Male|74.0|           1|            1|         Yes|      Private|         Rural|            70.09| 27|   never smoked|     1|         1.0|               0.0|            0.0|                 1.0|                 0.0| (3,[1],[1.0])|[74.0,1.0,1.0,70....|\n",
            "|10434|Female|69.0|           0|            0|          No|      Private|         Urban|            94.39| 22|   never smoked|     1|         0.0|               1.0|            0.0|                 0.0|                 0.0| (3,[0],[1.0])|(8,[0,3,4,5],[69....|\n",
            "|27419|Female|59.0|           0|            0|         Yes|      Private|         Rural|            76.15| 28|        Unknown|     1|         0.0|               0.0|            0.0|                 1.0|                 1.0| (3,[0],[1.0])|(8,[0,3,4,5],[59....|\n",
            "|60491|Female|78.0|           0|            0|         Yes|      Private|         Urban|            58.57| 24|        Unknown|     1|         0.0|               0.0|            0.0|                 0.0|                 1.0| (3,[0],[1.0])|(8,[0,3,4,5],[78....|\n",
            "+-----+------+----+------------+-------------+------------+-------------+--------------+-----------------+---+---------------+------+------------+------------------+---------------+--------------------+--------------------+--------------+--------------------+\n",
            "only showing top 10 rows\n",
            "\n"
          ]
        }
      ]
    },
    {
      "cell_type": "code",
      "source": [
        "# Correlation matrix heatmap\n",
        "\n",
        "# Convert Spark DataFrame to Pandas DataFrame\n",
        "df_pandas = df_selected.toPandas()\n",
        "\n",
        "# Calculate correlation matrix\n",
        "corr_matrix = df_pandas.corr()\n",
        "\n",
        "# Plotting correlation heatmap\n",
        "plt.figure(figsize=(10, 8))\n",
        "sns.heatmap(corr_matrix, annot=True, cmap=\"coolwarm\", fmt=\".2f\")\n",
        "plt.title(\"Correlation Heatmap\")\n",
        "plt.show()\n"
      ],
      "metadata": {
        "colab": {
          "base_uri": "https://localhost:8080/",
          "height": 838
        },
        "id": "Zu3mXVXiOlFO",
        "outputId": "f5421208-c3b0-4467-eb56-79952e1db653"
      },
      "execution_count": null,
      "outputs": [
        {
          "output_type": "display_data",
          "data": {
            "text/plain": [
              "<Figure size 1000x800 with 2 Axes>"
            ],
            "image/png": "[encoded data removed]"
          },
          "metadata": {}
        }
      ]
    },
    {
      "cell_type": "markdown",
      "source": [
        "Model Scaling"
      ],
      "metadata": {
        "id": "fzTthKIcKFOK"
      }
    },
    {
      "cell_type": "code",
      "source": [
        "from pyspark.ml.feature import StandardScaler\n",
        "\n",
        "# Initialize the StandardScaler\n",
        "scaler = StandardScaler(inputCol=\"features\", outputCol=\"scaled_features\", withStd=True, withMean=True)\n",
        "\n",
        "# Fit the scaler to the data\n",
        "scaler_model = scaler.fit(df_stroke_assembled)\n",
        "\n",
        "# Transform the data\n",
        "df_stroke_scaled = scaler_model.transform(df_stroke_assembled)\n",
        "\n",
        "# Show the dataframe with scaled features\n",
        "df_stroke_scaled.select(\"scaled_features\").show(10, truncate=False)\n"
      ],
      "metadata": {
        "colab": {
          "base_uri": "https://localhost:8080/"
        },
        "id": "QIDC7Pm2-cow",
        "outputId": "8554387f-2e5c-44e0-d364-f97ca4a9130d"
      },
      "execution_count": null,
      "outputs": [
        {
          "output_type": "stream",
          "name": "stdout",
          "text": [
            "+------------------------------------------------------------------------------------------------------------------------------------------------------------------+\n",
            "|scaled_features                                                                                                                                                   |\n",
            "+------------------------------------------------------------------------------------------------------------------------------------------------------------------+\n",
            "|[1.0513313991807545,-0.3285697091631481,4.184622475198168,2.706110616938918,0.9844699702410818,-1.1893935187116556,1.1898733258610663,-0.013989092759813321]      |\n",
            "|[0.7859931540178339,-0.3285697091631481,-0.23892341811226608,2.1213509400949206,-0.05604743974535602,0.840600095388732,-0.8402611299486329,-0.013989092759813321] |\n",
            "|[1.6262309303670828,-0.3285697091631481,4.184622475198168,-0.005027809274735759,0.4642112652478629,-1.1893935187116556,1.1898733258610663,-0.013989092759813321]  |\n",
            "|[0.2553166636919924,-0.3285697091631481,-0.23892341811226608,1.437217451098431,0.7243406177444723,0.840600095388732,-0.8402611299486329,-0.013989092759813321]    |\n",
            "|[1.5820078895065959,3.0428985916876288,-0.23892341811226608,1.5010375215696985,-0.5763061447385749,0.840600095388732,-0.8402611299486329,-0.013989092759813321]   |\n",
            "|[1.6704539712275694,-0.3285697091631481,-0.23892341811226608,1.7680218302193937,0.07401723650294871,-1.1893935187116556,1.1898733258610663,-0.013989092759813321] |\n",
            "|[1.360892685204162,3.0428985916876288,4.184622475198168,-0.7962641847022441,-0.18611211599366076,-1.1893935187116556,1.1898733258610663,-0.013989092759813321]    |\n",
            "|[1.139777480901728,-0.3285697091631481,-0.23892341811226608,-0.2596455990787875,-0.8364354972351844,0.840600095388732,-0.8402611299486329,-0.013989092759813321]  |\n",
            "|[0.6975470722968603,-0.3285697091631481,-0.23892341811226608,-0.6624407843368882,-0.05604743974535602,0.840600095388732,-0.8402611299486329,-0.013989092759813321]|\n",
            "|[1.5377848486461092,-0.3285697091631481,-0.23892341811226608,-1.0506611438126237,-0.5763061447385749,0.840600095388732,-0.8402611299486329,-0.013989092759813321] |\n",
            "+------------------------------------------------------------------------------------------------------------------------------------------------------------------+\n",
            "only showing top 10 rows\n",
            "\n"
          ]
        }
      ]
    },
    {
      "cell_type": "markdown",
      "source": [
        "Model Training and Testing"
      ],
      "metadata": {
        "id": "7IW28kftKVVN"
      }
    },
    {
      "cell_type": "code",
      "source": [
        "# Split the data into training and testing sets\n",
        "(train_data, test_data) = df_stroke_scaled.randomSplit([0.8, 0.2], seed=42)"
      ],
      "metadata": {
        "id": "3ysIbplP-fyR"
      },
      "execution_count": null,
      "outputs": []
    },
    {
      "cell_type": "code",
      "source": [
        "# Train Random Forest model\n",
        "rf = RandomForestClassifier(featuresCol=\"features\", labelCol=\"stroke\", seed=42)\n",
        "rf_model = rf.fit(train_data)\n",
        "rf_predictions = rf_model.transform(test_data)\n",
        "\n",
        "# Train Logistic Regression model\n",
        "lr = LogisticRegression(featuresCol=\"features\", labelCol=\"stroke\")\n",
        "lr_model = lr.fit(train_data)\n",
        "lr_predictions = lr_model.transform(test_data)\n",
        "\n",
        "# Train SVM model\n",
        "svm = LinearSVC(featuresCol=\"features\", labelCol=\"stroke\")\n",
        "svm_model = svm.fit(train_data)\n",
        "svm_predictions = svm_model.transform(test_data)\n",
        "\n",
        "# Train Naive Bayes model\n",
        "nb = NaiveBayes(featuresCol=\"features\", labelCol=\"stroke\")\n",
        "nb_model = nb.fit(train_data)\n",
        "nb_predictions = nb_model.transform(test_data)\n",
        "\n",
        "# Evaluate models\n",
        "evaluator = BinaryClassificationEvaluator(labelCol=\"stroke\", metricName=\"areaUnderROC\")\n",
        "rf_accuracy = evaluator.evaluate(rf_predictions)\n",
        "lr_accuracy = evaluator.evaluate(lr_predictions)\n",
        "svm_accuracy = evaluator.evaluate(svm_predictions)\n",
        "nb_accuracy = evaluator.evaluate(nb_predictions)\n",
        "\n",
        "# Display accuracies\n",
        "print(\"Random Forest Accuracy:\", rf_accuracy)\n",
        "print(\"Logistic Regression Accuracy:\", lr_accuracy)\n",
        "print(\"SVM Accuracy:\", svm_accuracy)\n",
        "print(\"Naive Bayes Accuracy:\", nb_accuracy)\n"
      ],
      "metadata": {
        "colab": {
          "base_uri": "https://localhost:8080/"
        },
        "id": "M7X2-MYdDU4e",
        "outputId": "4d3871ef-4753-414d-be4f-514e47edb55c"
      },
      "execution_count": null,
      "outputs": [
        {
          "output_type": "stream",
          "name": "stdout",
          "text": [
            "Random Forest Accuracy: 0.8612894844289373\n",
            "Logistic Regression Accuracy: 0.8631268327085132\n",
            "SVM Accuracy: 0.802123158011954\n",
            "Naive Bayes Accuracy: 0.18494116773690647\n"
          ]
        }
      ]
    },
    {
      "cell_type": "code",
      "source": [
        "from pyspark.ml.evaluation import MulticlassClassificationEvaluator\n",
        "\n",
        "# Evaluation metrics\n",
        "def evaluate_model(predictions):\n",
        "    # Calculate accuracy\n",
        "    accuracy_evaluator = MulticlassClassificationEvaluator(labelCol=\"stroke\", predictionCol=\"prediction\", metricName=\"accuracy\")\n",
        "    accuracy = accuracy_evaluator.evaluate(predictions)\n",
        "\n",
        "    # Calculate precision\n",
        "    precision_evaluator = MulticlassClassificationEvaluator(labelCol=\"stroke\", predictionCol=\"prediction\", metricName=\"weightedPrecision\")\n",
        "    precision = precision_evaluator.evaluate(predictions)\n",
        "\n",
        "    # Calculate recall\n",
        "    recall_evaluator = MulticlassClassificationEvaluator(labelCol=\"stroke\", predictionCol=\"prediction\", metricName=\"weightedRecall\")\n",
        "    recall = recall_evaluator.evaluate(predictions)\n",
        "\n",
        "    # Calculate F1-score\n",
        "    f1_evaluator = MulticlassClassificationEvaluator(labelCol=\"stroke\", predictionCol=\"prediction\", metricName=\"f1\")\n",
        "    f1_score = f1_evaluator.evaluate(predictions)\n",
        "\n",
        "    print(\"Accuracy:\", accuracy)\n",
        "    print(\"Precision:\", precision)\n",
        "    print(\"Recall:\", recall)\n",
        "    print(\"F1 Score:\", f1_score)\n",
        "\n",
        "# Evaluate models\n",
        "print(\"Random Forest Metrics:\")\n",
        "evaluate_model(rf_predictions)\n",
        "\n",
        "print(\"\\nLogistic Regression Metrics:\")\n",
        "evaluate_model(lr_predictions)\n",
        "\n",
        "print(\"\\nSVM Metrics:\")\n",
        "evaluate_model(svm_predictions)\n",
        "\n",
        "print(\"\\nNaive Bayes Metrics:\")\n",
        "evaluate_model(nb_predictions)\n"
      ],
      "metadata": {
        "colab": {
          "base_uri": "https://localhost:8080/"
        },
        "id": "_uK_yAd2F6B0",
        "outputId": "328d66d5-b7d8-4f3c-862f-777f8ef6079b"
      },
      "execution_count": null,
      "outputs": [
        {
          "output_type": "stream",
          "name": "stdout",
          "text": [
            "Random Forest Metrics:\n",
            "Accuracy: 0.9574468085106383\n",
            "Precision: 0.9167043911272069\n",
            "Recall: 0.9574468085106383\n",
            "F1 Score: 0.9366327474560593\n",
            "\n",
            "Logistic Regression Metrics:\n",
            "Accuracy: 0.9574468085106383\n",
            "Precision: 0.9167043911272069\n",
            "Recall: 0.9574468085106383\n",
            "F1 Score: 0.9366327474560593\n",
            "\n",
            "SVM Metrics:\n",
            "Accuracy: 0.9574468085106383\n",
            "Precision: 0.9167043911272069\n",
            "Recall: 0.9574468085106383\n",
            "F1 Score: 0.9366327474560593\n",
            "\n",
            "Naive Bayes Metrics:\n",
            "Accuracy: 0.8074974670719351\n",
            "Precision: 0.9343014094427265\n",
            "Recall: 0.8074974670719351\n",
            "F1 Score: 0.8603494918476274\n"
          ]
        }
      ]
    }
  ]
}